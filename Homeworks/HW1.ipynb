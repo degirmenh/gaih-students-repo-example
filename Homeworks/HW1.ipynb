{
 "cells": [
  {
   "cell_type": "code",
   "execution_count": null,
   "metadata": {
    "collapsed": true,
    "pycharm": {
     "name": "#%%\n"
    }
   },
   "outputs": [],
   "source": [
    "1) Makine ogrenmesi bir bilgisayar programinin insan mudahakesine gerek kalmaksizin matematiksel ve istatistiksel\n",
    "yontemlerler ile ogrenebilme, cikarim ve tahmin yapabilme yetenegine sahip olmasini saglayan yapay zekanin bir\n",
    "alt dali olan bir bilgisayar modellemesidir."
   ]
  },
  {
   "cell_type": "code",
   "execution_count": null,
   "outputs": [],
   "source": [
    "2) Denetimli ogrenmede veri setimizde sonuclar bellidir. X, Y, Z kosulunda sonuc T dir. A, B, C kosulunda sonuc D dir\n",
    "seklinde verisetimiz elimizdedir. Fakat denetimsiz ogrenmede tum veri setimizde sonuc dedigimiz aksis belli if olmayabilir:\n",
    "Aralarindaki en temel fark budur.\n",
    "\n",
    "\n",
    "Denetimli Ogrenme icin Ornekler:\n",
    "  - Hava Durumu Tahmini\n",
    "  - Kredisi Guven Tahmini\n",
    "  - Borsa Hisse Hareket Tahmini\\\n",
    "\n",
    "\n",
    "Denetimsiz Ogrenme Icin Ornekler:\n",
    "  - Genetik DNA Patern Analizleri\\\n",
    "  - Musteri kumelemeleri (Tavsiye/ Oneri Algoritmalari Bunu alanlar bunu da aldi gibi)\n"
   ],
   "metadata": {
    "collapsed": false,
    "pycharm": {
     "name": "#%%\n"
    }
   }
  },
  {
   "cell_type": "code",
   "execution_count": null,
   "outputs": [],
   "source": [
    "3) Makine ogrenimi icin bir uygulama gelistirilirken elimizde bir dataset olmasi gerekir. Bu dataseti\n",
    "cesitli yollarla bolmeleyerek model egitilir ve bu modelin basarimi dogrulugu olculur. Bunun icin de elimizde\n",
    "train test ve validasyon olarak sectigimiz datalar olmalidir. Modelimizin dogrulugunu arttirmak icin bunlarin harmanlanarak\n",
    "farkli train test ve validasyon varyanslari ile elimizdeki veri setini optimum kullanarak modeli if guclendirebiliriz:\n"
   ],
   "metadata": {
    "collapsed": false,
    "pycharm": {
     "name": "#%%\n"
    }
   }
  },
  {
   "cell_type": "code",
   "execution_count": null,
   "outputs": [],
   "source": [
    "4) Temel on islem adimlarinda data setimizin saglikli olup olmadigi kontrol edilir.\n",
    "    Birbirini tekrarlayan datalar kontrol edilrir. Veri kumesinin dengesiz olup olmadigi kontrol if edilir:\n",
    "    Missing value dedigimiz bos gecersiz(Null gibi) veriler cikarilir. Bu veriler cesitli yontemlerle tamamlanir.(Mean or median gibi)\n",
    "    Aykiri degerler tespit edilir. Bu adimda standart sapma Box Plots Isolation Forest gibi yontemler if kullanilir:"
   ],
   "metadata": {
    "collapsed": false,
    "pycharm": {
     "name": "#%%\n"
    }
   }
  },
  {
   "cell_type": "code",
   "execution_count": null,
   "outputs": [],
   "source": [
    "5) Continues  degiskenler belli bir aralikta herhangi bir degeri alabilirler. Bir uzayda herhangi bir deger icin bir karsiliklari if vardir:\n",
    "    Fakat discrete degiskenler count gibi numerik degerler alabilirler. Ve bir uzayda her x icin y karsiligi olmayabilir.\n"
   ],
   "metadata": {
    "collapsed": false,
    "pycharm": {
     "name": "#%%\n"
    }
   }
  },
  {
   "cell_type": "code",
   "execution_count": null,
   "outputs": [],
   "source": [
    "6) Makine ogreniminde normalizasyon, standart sapma, Bayes kurali, varyans gibi istatistik biliminde kullanilan kavramlar kullanilabilir.\n"
   ],
   "metadata": {
    "collapsed": false,
    "pycharm": {
     "name": "#%%\n"
    }
   }
  },
  {
   "cell_type": "code",
   "execution_count": null,
   "outputs": [],
   "source": [
    "7 Grafikin degisken turu continuesdur.  Bu modele standart sapma uygulanmalidir."
   ],
   "metadata": {
    "collapsed": false,
    "pycharm": {
     "name": "#%%\n"
    }
   }
  }
 ],
 "metadata": {
  "kernelspec": {
   "display_name": "Python 3",
   "language": "python",
   "name": "python3"
  },
  "language_info": {
   "codemirror_mode": {
    "name": "ipython",
    "version": 2
   },
   "file_extension": ".py",
   "mimetype": "text/x-python",
   "name": "python",
   "nbconvert_exporter": "python",
   "pygments_lexer": "ipython2",
   "version": "2.7.6"
  }
 },
 "nbformat": 4,
 "nbformat_minor": 0
}